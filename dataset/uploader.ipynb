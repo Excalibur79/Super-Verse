{
 "metadata": {
  "language_info": {
   "codemirror_mode": {
    "name": "ipython",
    "version": 3
   },
   "file_extension": ".py",
   "mimetype": "text/x-python",
   "name": "python",
   "nbconvert_exporter": "python",
   "pygments_lexer": "ipython3",
   "version": "3.7.6-final"
  },
  "orig_nbformat": 2,
  "kernelspec": {
   "name": "python3",
   "display_name": "Python 3",
   "language": "python"
  }
 },
 "nbformat": 4,
 "nbformat_minor": 2,
 "cells": [
  {
   "cell_type": "code",
   "execution_count": null,
   "metadata": {},
   "outputs": [],
   "source": []
  },
  {
   "cell_type": "code",
   "execution_count": 1,
   "metadata": {
    "tags": []
   },
   "outputs": [
    {
     "output_type": "stream",
     "name": "stdout",
     "text": [
      "<Response [200]>\n"
     ]
    }
   ],
   "source": [
    "import pandas\n",
    "import requests\n",
    "import json\n",
    "import math\n",
    "\n",
    "dataarray=[]\n",
    "df=pandas.read_csv(\"characters.csv\",encoding='ANSI')\n",
    "\n",
    "def upload():\n",
    "    url=\"https://excalibur-superverse.herokuapp.com/superverse/dragonball/createcharacters\"   \n",
    "    data=(dataarray)\n",
    "    #print(data)\n",
    "    x=requests.post(url,json=data)\n",
    "    print(x)\n",
    "for i in range(1,len(df),1):\n",
    "    ob={}\n",
    "    ob['name']=df['name'][i]\n",
    "    ob['url']=df['url'][i]\n",
    "    ob['theme']=df['theme'][i]\n",
    "    ob['attack']=df['attack'][i]\n",
    "    ob['defence']=df['defence'][i]\n",
    "    ob['health']=df['health'][i]\n",
    "    ob['total_health']=df['total_health'][i]\n",
    "    ob['base_price']=df['base_price'][i]\n",
    "    ob['transformable']=df['transformable'][i]\n",
    "    ob['stamina']=df['stamina'][i]\n",
    "    ob['stamina_threshold']=df['stamina_threshold'][i]\n",
    "\n",
    "    if type(df['next_character'][i]) == str:\n",
    "       ob['next_character']=df['next_character'][i]\n",
    "    else:\n",
    "        ob['next_character']=''\n",
    "    ob['dp']=df['dp'][i]\n",
    "\n",
    "    dataarray.append(ob)\n",
    "upload()"
   ]
  },
  {
   "cell_type": "code",
   "execution_count": null,
   "metadata": {},
   "outputs": [],
   "source": []
  }
 ]
}